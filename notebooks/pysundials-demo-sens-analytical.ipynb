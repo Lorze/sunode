{
 "cells": [
  {
   "cell_type": "code",
   "execution_count": 1,
   "metadata": {},
   "outputs": [],
   "source": [
    "import os\n",
    "import numpy as np\n",
    "import numba\n",
    "import numba.cffi_support\n",
    "import importlib\n",
    "import pysundials_cffi\n",
    "from pysundials_cffi import lambdify\n",
    "import sympy as sy\n",
    "import matplotlib.pyplot as plt"
   ]
  },
  {
   "cell_type": "code",
   "execution_count": 2,
   "metadata": {},
   "outputs": [],
   "source": [
    "ndim = 2\n",
    "nparam = 3\n",
    "\n",
    "p = sy.MatrixSymbol('p', nparam, 1)\n",
    "y = sy.MatrixSymbol('y', ndim, 1)\n",
    "\n",
    "a, b, c = p\n",
    "V, R = y\n",
    "\n",
    "dV_dt = (V - V**3 / 3 + R) * c\n",
    "dR_dt = (V - a + b * R) / -c\n",
    "\n",
    "dy = sy.Matrix([dV_dt, dR_dt])"
   ]
  },
  {
   "cell_type": "code",
   "execution_count": 3,
   "metadata": {},
   "outputs": [],
   "source": [
    "import sympy.codegen.rewriting"
   ]
  },
  {
   "cell_type": "code",
   "execution_count": 4,
   "metadata": {},
   "outputs": [],
   "source": [
    "def optimize(expr):\n",
    "    return sympy.codegen.rewriting.optimize(\n",
    "        expr, sympy.codegen.rewriting.optims_c99)"
   ]
  },
  {
   "cell_type": "code",
   "execution_count": 5,
   "metadata": {},
   "outputs": [
    {
     "data": {
      "text/latex": [
       "$\\displaystyle \\left[\\begin{matrix}\\left(- \\frac{y_{0, 0}^{3}}{3} + y_{0, 0} + y_{1, 0}\\right) p_{2, 0}\\\\- \\frac{- p_{0, 0} + p_{1, 0} y_{1, 0} + y_{0, 0}}{p_{2, 0}}\\end{matrix}\\right]$"
      ],
      "text/plain": [
       "Matrix([\n",
       "[    (-y[0, 0]**3/3 + y[0, 0] + y[1, 0])*p[2, 0]],\n",
       "[-(-p[0, 0] + p[1, 0]*y[1, 0] + y[0, 0])/p[2, 0]]])"
      ]
     },
     "execution_count": 5,
     "metadata": {},
     "output_type": "execute_result"
    }
   ],
   "source": [
    "dy = dy.applyfunc(optimize)\n",
    "dy"
   ]
  },
  {
   "cell_type": "code",
   "execution_count": 6,
   "metadata": {},
   "outputs": [],
   "source": [
    "# Create native function using numba\n",
    "dy_pre, dy_comp = lambdify.lambdify_consts('_rhs', [], [p, y], dy)"
   ]
  },
  {
   "cell_type": "code",
   "execution_count": 7,
   "metadata": {},
   "outputs": [
    {
     "data": {
      "text/latex": [
       "$\\displaystyle \\left[\\begin{matrix}\\left(1 - y_{0, 0}^{2}\\right) p_{2, 0} v_{0, 0} + p_{2, 0} v_{1, 0}\\\\- \\frac{p_{1, 0} v_{1, 0}}{p_{2, 0}} - \\frac{v_{0, 0}}{p_{2, 0}}\\end{matrix}\\right]$"
      ],
      "text/plain": [
       "Matrix([\n",
       "[(1 - y[0, 0]**2)*p[2, 0]*v[0, 0] + p[2, 0]*v[1, 0]],\n",
       "[        -p[1, 0]*v[1, 0]/p[2, 0] - v[0, 0]/p[2, 0]]])"
      ]
     },
     "execution_count": 7,
     "metadata": {},
     "output_type": "execute_result"
    }
   ],
   "source": [
    "v = sy.MatrixSymbol('v', ndim, 1)\n",
    "Jv = dy.jacobian(y) * sy.Matrix(v)\n",
    "Jv = Jv.applyfunc(optimize)\n",
    "Jv"
   ]
  },
  {
   "cell_type": "code",
   "execution_count": 8,
   "metadata": {},
   "outputs": [],
   "source": [
    "# We also have dy in the matrix-vector product. Can we use it somehow?\n",
    "Jv_pre, Jv_comp = lambdify.lambdify_consts('_jacobian_prod', [], [p, y, v], Jv)"
   ]
  },
  {
   "cell_type": "code",
   "execution_count": 9,
   "metadata": {},
   "outputs": [
    {
     "data": {
      "text/latex": [
       "$\\displaystyle \\left[\\begin{matrix}\\left(1 - y_{0, 0}^{2}\\right) p_{2, 0} & p_{2, 0}\\\\- \\frac{1}{p_{2, 0}} & - \\frac{p_{1, 0}}{p_{2, 0}}\\end{matrix}\\right]$"
      ],
      "text/plain": [
       "Matrix([\n",
       "[(1 - y[0, 0]**2)*p[2, 0],          p[2, 0]],\n",
       "[              -1/p[2, 0], -p[1, 0]/p[2, 0]]])"
      ]
     },
     "execution_count": 9,
     "metadata": {},
     "output_type": "execute_result"
    }
   ],
   "source": [
    "J = dy.jacobian(y)\n",
    "J = J.applyfunc(optimize)\n",
    "J"
   ]
  },
  {
   "cell_type": "code",
   "execution_count": 10,
   "metadata": {},
   "outputs": [],
   "source": [
    "J_pre, J_comp = lambdify.lambdify_consts('_jacobian', [], [p, y], J)"
   ]
  },
  {
   "cell_type": "code",
   "execution_count": 11,
   "metadata": {},
   "outputs": [
    {
     "data": {
      "text/latex": [
       "$\\displaystyle \\left[\\begin{matrix}0 & 0 & - \\frac{y_{0, 0}^{3}}{3} + y_{0, 0} + y_{1, 0}\\\\\\frac{1}{p_{2, 0}} & - \\frac{y_{1, 0}}{p_{2, 0}} & \\frac{- p_{0, 0} + p_{1, 0} y_{1, 0} + y_{0, 0}}{p_{2, 0}^{2}}\\end{matrix}\\right]$"
      ],
      "text/plain": [
       "Matrix([\n",
       "[        0,                0,                 -y[0, 0]**3/3 + y[0, 0] + y[1, 0]],\n",
       "[1/p[2, 0], -y[1, 0]/p[2, 0], (-p[0, 0] + p[1, 0]*y[1, 0] + y[0, 0])/p[2, 0]**2]])"
      ]
     },
     "execution_count": 11,
     "metadata": {},
     "output_type": "execute_result"
    }
   ],
   "source": [
    "df_dp = dy.jacobian(p)\n",
    "df_dp = df_dp.applyfunc(optimize)\n",
    "df_dp"
   ]
  },
  {
   "cell_type": "code",
   "execution_count": 12,
   "metadata": {},
   "outputs": [],
   "source": [
    "df_dp_pre, df_dp_comp = lambdify.lambdify_consts('_df_dp', [], [p, y], df_dp)"
   ]
  },
  {
   "cell_type": "code",
   "execution_count": 13,
   "metadata": {},
   "outputs": [
    {
     "data": {
      "text/plain": [
       "([1., 1., 1.],)"
      ]
     },
     "execution_count": 13,
     "metadata": {},
     "output_type": "execute_result"
    }
   ],
   "source": [
    "user_dtype = np.dtype([('p', (np.float64, (nparam,)))], align=True)\n",
    "user_ndtype = numba.from_dtype(user_dtype)\n",
    "user_ndtype\n",
    "\n",
    "user_ndtype_p = numba.types.CPointer(user_ndtype)\n",
    "user_data = np.zeros((1,), dtype=user_dtype)[0]\n",
    "user_data['p'] = 1\n",
    "user_data"
   ]
  },
  {
   "cell_type": "code",
   "execution_count": 14,
   "metadata": {},
   "outputs": [],
   "source": [
    "@numba.njit()\n",
    "def rhs(t, y, out, user_data):\n",
    "    p = user_data.p.reshape(-1, 1)\n",
    "    # TODO The optimizer doesn't see to be able\n",
    "    # to optimize the malloc away. We could\n",
    "    # extend lambdify to take an out argument.\n",
    "    out[:] = dy_comp((), p, y.reshape(-1, 1))[:, 0]\n",
    "    return 0\n",
    "\n",
    "@numba.njit\n",
    "def jacobian_prod(t, v, y, fy, out, user_data):\n",
    "    p = user_data.p\n",
    "    out[:] = Jv_comp(\n",
    "        (),\n",
    "        p.reshape((-1, 1)),\n",
    "        y.reshape((-1, 1)),\n",
    "        v.reshape((-1, 1))\n",
    "    )[:, 0]\n",
    "    return 0\n",
    "\n",
    "@numba.njit\n",
    "def jacobian(t, y, fy, out, user_data):\n",
    "    p = user_data.p\n",
    "    out[:, :] = J_comp((), p.reshape((-1, 1)), y.reshape((-1, 1)))\n",
    "    return 0"
   ]
  },
  {
   "cell_type": "code",
   "execution_count": 15,
   "metadata": {},
   "outputs": [],
   "source": [
    "pysundials_cffi = importlib.reload(pysundials_cffi)\n",
    "ffi = pysundials_cffi._ffi.ffi\n",
    "lib = pysundials_cffi._ffi.lib"
   ]
  },
  {
   "cell_type": "code",
   "execution_count": 16,
   "metadata": {},
   "outputs": [],
   "source": [
    "numba.cffi_support.register_module(pysundials_cffi._ffi)\n",
    "numba.cffi_support.register_type(\n",
    "    pysundials_cffi._ffi.ffi.typeof('N_Vector').item,\n",
    "    numba.types.Opaque('N_Vector'))\n",
    "numba.cffi_support.register_type(\n",
    "    pysundials_cffi._ffi.ffi.typeof('SUNMatrix').item,\n",
    "    numba.types.Opaque('SUNMatrix'))"
   ]
  },
  {
   "cell_type": "code",
   "execution_count": 17,
   "metadata": {},
   "outputs": [],
   "source": [
    "ndim = 2\n",
    "y0 = pysundials_cffi.nvector.empty(ndim)\n",
    "y0.data[:] = 0"
   ]
  },
  {
   "cell_type": "code",
   "execution_count": 18,
   "metadata": {},
   "outputs": [],
   "source": [
    "abstol = pysundials_cffi.nvector.empty(ndim)\n",
    "abstol.data[:] = [1e-8, 1e-8]\n",
    "reltol = 1e-8"
   ]
  },
  {
   "cell_type": "code",
   "execution_count": 19,
   "metadata": {},
   "outputs": [],
   "source": [
    "ode = lib.CVodeCreate(lib.CV_BDF)"
   ]
  },
  {
   "cell_type": "code",
   "execution_count": 20,
   "metadata": {},
   "outputs": [],
   "source": [
    "user_data_p = ffi.cast('void *', ffi.addressof(ffi.from_buffer(user_data.data)))"
   ]
  },
  {
   "cell_type": "code",
   "execution_count": 21,
   "metadata": {},
   "outputs": [],
   "source": [
    "N_VGetArrayPointer_Serial = lib.N_VGetArrayPointer_Serial\n",
    "\n",
    "func_type = numba.cffi_support.map_type(ffi.typeof('CVRhsFn'))\n",
    "func_type = func_type.return_type(*(func_type.args[:-1] + (user_ndtype_p,)))\n",
    "func_type\n",
    "\n",
    "@numba.cfunc(func_type)\n",
    "def rhs_wrapper(t, y_, out_, user_data_):\n",
    "    y_ptr = N_VGetArrayPointer_Serial(y_)\n",
    "    out_ptr = N_VGetArrayPointer_Serial(out_)\n",
    "    y = numba.carray(y_ptr, (ndim,))\n",
    "    out = numba.carray(out_ptr, (ndim,))\n",
    "    user_data = numba.carray(user_data_, (1,))[0]\n",
    "    p = user_data.p\n",
    "    \n",
    "    return rhs(t, y, out, user_data)"
   ]
  },
  {
   "cell_type": "code",
   "execution_count": 22,
   "metadata": {},
   "outputs": [],
   "source": [
    "SUNDenseMatrix_Data = lib.SUNDenseMatrix_Data\n",
    "\n",
    "func_type = numba.cffi_support.map_type(ffi.typeof('CVLsJacFn'))\n",
    "args = list(func_type.args)\n",
    "args[4] = user_ndtype_p\n",
    "func_type = func_type.return_type(*args)\n",
    "func_type\n",
    "\n",
    "@numba.cfunc(func_type)\n",
    "def Jac(t, y_, fy_, out_, user_data_, tmp1_, tmp2_, tmp3_):\n",
    "    y_ptr = N_VGetArrayPointer_Serial(y_)\n",
    "    out_ptr = SUNDenseMatrix_Data(out_)\n",
    "    fy_ptr = N_VGetArrayPointer_Serial(fy_)\n",
    "    y = numba.carray(y_ptr, (ndim,))\n",
    "    out = numba.farray(out_ptr, (ndim, ndim))\n",
    "    fy = numba.carray(fy_ptr, (ndim,))\n",
    "    user_data = numba.carray(user_data_, (1,))[0]\n",
    "    p = user_data.p\n",
    "    \n",
    "    return jacobian(t, y, fy, out, user_data)"
   ]
  },
  {
   "cell_type": "code",
   "execution_count": 23,
   "metadata": {},
   "outputs": [],
   "source": [
    "# Not used\n",
    "SUNDenseMatrix_Data = lib.SUNDenseMatrix_Data\n",
    "\n",
    "func_type = numba.cffi_support.map_type(ffi.typeof('CVLsJacTimesVecFn'))\n",
    "args = list(func_type.args)\n",
    "args[-2] = user_ndtype_p\n",
    "func_type = func_type.return_type(*args)\n",
    "func_type\n",
    "\n",
    "@numba.cfunc(func_type)\n",
    "def jac_prod_wrapper(v_, out_, t, y_, fy_, user_data_, tmp_):\n",
    "    v_ptr = N_VGetArrayPointer_Serial(v_)\n",
    "    y_ptr = N_VGetArrayPointer_Serial(y_)\n",
    "    #out_ptr = SUNDenseMatrix_Data(out_)\n",
    "    out_ptr = N_VGetArrayPointer_Serial(out_)\n",
    "    fy_ptr = N_VGetArrayPointer_Serial(fy_)\n",
    "    v = numba.carray(v_ptr, (ndim,))\n",
    "    y = numba.carray(y_ptr, (ndim,))\n",
    "    out = numba.carray(out_ptr, (ndim,))\n",
    "    fy = numba.carray(fy_ptr, (ndim,))\n",
    "    user_data = numba.carray(user_data_, (1,))[0]\n",
    "    p = user_data.p\n",
    "    \n",
    "    return jacobian_prod(t, v, y, fy, out, user_data)"
   ]
  },
  {
   "cell_type": "code",
   "execution_count": 24,
   "metadata": {},
   "outputs": [
    {
     "name": "stdout",
     "output_type": "stream",
     "text": [
      "0\n"
     ]
    },
    {
     "data": {
      "text/plain": [
       "0"
      ]
     },
     "execution_count": 24,
     "metadata": {},
     "output_type": "execute_result"
    }
   ],
   "source": [
    "print(lib.CVodeInit(ode, rhs_wrapper.cffi, 0, y0._c_ptr))\n",
    "lib.CVodeSVtolerances(ode, reltol, abstol._c_ptr)"
   ]
  },
  {
   "cell_type": "code",
   "execution_count": 25,
   "metadata": {},
   "outputs": [],
   "source": [
    "A = lib.SUNDenseMatrix(ndim, ndim)"
   ]
  },
  {
   "cell_type": "code",
   "execution_count": 26,
   "metadata": {},
   "outputs": [],
   "source": [
    "linsolver = lib.SUNLinSol_Dense(y0._c_ptr, A)"
   ]
  },
  {
   "cell_type": "code",
   "execution_count": 27,
   "metadata": {},
   "outputs": [
    {
     "data": {
      "text/plain": [
       "0"
      ]
     },
     "execution_count": 27,
     "metadata": {},
     "output_type": "execute_result"
    }
   ],
   "source": [
    "lib.CVodeSetLinearSolver(ode, linsolver, A)"
   ]
  },
  {
   "cell_type": "code",
   "execution_count": 28,
   "metadata": {},
   "outputs": [
    {
     "data": {
      "text/plain": [
       "0"
      ]
     },
     "execution_count": 28,
     "metadata": {},
     "output_type": "execute_result"
    }
   ],
   "source": [
    "lib.CVodeSetJacFn(ode, Jac.cffi)"
   ]
  },
  {
   "cell_type": "code",
   "execution_count": 29,
   "metadata": {},
   "outputs": [
    {
     "data": {
      "text/plain": [
       "0"
      ]
     },
     "execution_count": 29,
     "metadata": {},
     "output_type": "execute_result"
    }
   ],
   "source": [
    "lib.CVodeSetUserData(ode, user_data_p)"
   ]
  },
  {
   "cell_type": "code",
   "execution_count": 30,
   "metadata": {},
   "outputs": [],
   "source": [
    "yS = lib.N_VCloneVectorArray(nparam, y0._c_ptr)"
   ]
  },
  {
   "cell_type": "code",
   "execution_count": 31,
   "metadata": {},
   "outputs": [
    {
     "data": {
      "text/plain": [
       "array([[0., 0.],\n",
       "       [0., 0.],\n",
       "       [0., 0.]])"
      ]
     },
     "execution_count": 31,
     "metadata": {},
     "output_type": "execute_result"
    }
   ],
   "source": [
    "vecs = [pysundials_cffi.nvector.Vector(yS[i], None) for i in range(nparam)]\n",
    "for vec in vecs:\n",
    "    vec.data[:] = 0\n",
    "np.array([vec.data for vec in vecs])"
   ]
  },
  {
   "cell_type": "code",
   "execution_count": 32,
   "metadata": {},
   "outputs": [],
   "source": [
    "func_type = numba.cffi_support.map_type(ffi.typeof('CVSensRhsFn'))\n",
    "args = list(func_type.args)\n",
    "args[-3] = user_ndtype_p\n",
    "func_type = func_type.return_type(*args)\n",
    "func_type\n",
    "\n",
    "@numba.cfunc(func_type)\n",
    "def sens_rhs(n_params, t, y_, ydot_, yS_, out_, user_data_, tmp1_, tmp2_):\n",
    "    y_ptr = N_VGetArrayPointer_Serial(y_)\n",
    "    y = numba.carray(y_ptr, (ndim,))\n",
    "    y_dot_ptr = N_VGetArrayPointer_Serial(ydot_)\n",
    "    ydot = numba.carray(y_dot_ptr, (ndim,))\n",
    "    \n",
    "    out = []\n",
    "    for i in range(n_params):\n",
    "        out_i_ptr = N_VGetArrayPointer_Serial(out_[i])\n",
    "        out_i = numba.carray(out_i_ptr, (ndim,))\n",
    "        out.append(out_i)\n",
    "\n",
    "    yS = []\n",
    "    for i in range(n_params):\n",
    "        yS_i_ptr = N_VGetArrayPointer_Serial(yS_[i])\n",
    "        yS_i = numba.carray(yS_i_ptr, (ndim,))\n",
    "        yS.append(yS_i)\n",
    "        \n",
    "    user_data = numba.carray(user_data_, (1,))[0]\n",
    "    p = user_data.p\n",
    "    \n",
    "    df_dp = df_dp_comp((), p.reshape((-1, 1)), y.reshape((-1, 1)))\n",
    "\n",
    "    for i in range(n_params):\n",
    "        s = yS[i]\n",
    "        ySdot = out[i]\n",
    "\n",
    "        jacobian_prod(t, s, y, None, ySdot, user_data)\n",
    "        ySdot[:] += df_dp[:, i]\n",
    "    \n",
    "    return 0"
   ]
  },
  {
   "cell_type": "code",
   "execution_count": 33,
   "metadata": {},
   "outputs": [],
   "source": [
    "assert 0 == lib.CVodeSensInit(ode, nparam, lib.CV_STAGGERED, sens_rhs.cffi, yS)\n",
    "assert 0 == lib.CVodeSensEEtolerances(ode)\n",
    "assert 0 == lib.CVodeSetSensErrCon(ode, 1)"
   ]
  },
  {
   "cell_type": "code",
   "execution_count": 34,
   "metadata": {},
   "outputs": [],
   "source": [
    "pbar = np.ones(nparam)"
   ]
  },
  {
   "cell_type": "code",
   "execution_count": 35,
   "metadata": {},
   "outputs": [],
   "source": [
    "NULL_D = ffi.cast('double *', 0)\n",
    "NULL_I = ffi.cast('int *', 0)\n",
    "pbar_p = ffi.cast('double *', ffi.addressof(ffi.from_buffer(pbar.data)))"
   ]
  },
  {
   "cell_type": "code",
   "execution_count": 36,
   "metadata": {},
   "outputs": [
    {
     "data": {
      "text/plain": [
       "0"
      ]
     },
     "execution_count": 36,
     "metadata": {},
     "output_type": "execute_result"
    }
   ],
   "source": [
    "lib.CVodeSetSensParams(ode, NULL_D, pbar_p, NULL_I)"
   ]
  },
  {
   "cell_type": "code",
   "execution_count": 37,
   "metadata": {},
   "outputs": [],
   "source": [
    "time_p = ffi.new('double*')\n",
    "time_p[0] = 0."
   ]
  },
  {
   "cell_type": "code",
   "execution_count": 38,
   "metadata": {},
   "outputs": [],
   "source": [
    "tvals = np.linspace(0, 10)\n",
    "y_vals = []\n",
    "sens_vals = []\n",
    "\n",
    "user_data['p'][...] = [-0.2, 0.3, 0.5]"
   ]
  },
  {
   "cell_type": "code",
   "execution_count": 39,
   "metadata": {},
   "outputs": [
    {
     "data": {
      "text/plain": [
       "([-0.2,  0.3,  0.5],)"
      ]
     },
     "execution_count": 39,
     "metadata": {},
     "output_type": "execute_result"
    }
   ],
   "source": [
    "user_data"
   ]
  },
  {
   "cell_type": "code",
   "execution_count": 40,
   "metadata": {},
   "outputs": [
    {
     "name": "stdout",
     "output_type": "stream",
     "text": [
      "2.03 ms ± 67.2 µs per loop (mean ± std. dev. of 7 runs, 100 loops each)\n"
     ]
    }
   ],
   "source": [
    "%%timeit\n",
    "y_vals.clear()\n",
    "sens_vals.clear()\n",
    "\n",
    "y0.data[:] = [0.5, 0.6]\n",
    "for vec in vecs:\n",
    "    vec.data[:] = 0\n",
    "\n",
    "lib.CVodeReInit(ode, 0, y0._c_ptr)\n",
    "for t in tvals:\n",
    "    retval = -1\n",
    "    while retval == -1:\n",
    "        retval = lib.CVode(ode, t, y0._c_ptr, time_p, lib.CV_NORMAL)\n",
    "    y_vals.append(y0.data.copy())\n",
    "    lib.CVodeGetSens(ode, time_p, yS)\n",
    "    sens_vals.append(np.array([vec.data.copy() for vec in vecs]).T)"
   ]
  },
  {
   "cell_type": "code",
   "execution_count": 41,
   "metadata": {},
   "outputs": [],
   "source": [
    "import matplotlib.pyplot as plt"
   ]
  },
  {
   "cell_type": "code",
   "execution_count": 42,
   "metadata": {},
   "outputs": [
    {
     "data": {
      "text/plain": [
       "[<matplotlib.lines.Line2D at 0x7f3aba81ae48>]"
      ]
     },
     "execution_count": 42,
     "metadata": {},
     "output_type": "execute_result"
    },
    {
     "data": {
      "image/png": "[encoded data removed]",
      "text/plain": [
       "<Figure size 432x288 with 1 Axes>"
      ]
     },
     "metadata": {
      "needs_background": "light"
     },
     "output_type": "display_data"
    }
   ],
   "source": [
    "plt.plot(tvals, np.array(y_vals)[:, 0])\n",
    "plt.plot(tvals, np.array(y_vals)[:, 1])"
   ]
  },
  {
   "cell_type": "code",
   "execution_count": 43,
   "metadata": {},
   "outputs": [
    {
     "data": {
      "text/plain": [
       "[<matplotlib.lines.Line2D at 0x7f3aba083ba8>]"
      ]
     },
     "execution_count": 43,
     "metadata": {},
     "output_type": "execute_result"
    },
    {
     "data": {
      "image/png": "[encoded data removed]",
      "text/plain": [
       "<Figure size 432x288 with 1 Axes>"
      ]
     },
     "metadata": {
      "needs_background": "light"
     },
     "output_type": "display_data"
    }
   ],
   "source": [
    "plt.plot(tvals, np.array(sens_vals)[:, 0, 0])\n",
    "plt.plot(tvals, np.array(sens_vals)[:, 0, 1])\n",
    "plt.plot(tvals, np.array(sens_vals)[:, 0, 2])"
   ]
  },
  {
   "cell_type": "code",
   "execution_count": 44,
   "metadata": {},
   "outputs": [
    {
     "data": {
      "text/plain": [
       "[<matplotlib.lines.Line2D at 0x7f3aba251b70>]"
      ]
     },
     "execution_count": 44,
     "metadata": {},
     "output_type": "execute_result"
    },
    {
     "data": {
      "image/png": "[encoded data removed]",
      "text/plain": [
       "<Figure size 432x288 with 1 Axes>"
      ]
     },
     "metadata": {
      "needs_background": "light"
     },
     "output_type": "display_data"
    }
   ],
   "source": [
    "plt.plot(tvals, np.array(sens_vals)[:, 1, 0])\n",
    "plt.plot(tvals, np.array(sens_vals)[:, 1, 1])\n",
    "plt.plot(tvals, np.array(sens_vals)[:, 1, 2])"
   ]
  },
  {
   "cell_type": "code",
   "execution_count": 45,
   "metadata": {},
   "outputs": [],
   "source": [
    "num_evals_p = ffi.new('long*')\n",
    "num_evals_p[0] = 0"
   ]
  },
  {
   "cell_type": "code",
   "execution_count": 46,
   "metadata": {},
   "outputs": [
    {
     "data": {
      "text/plain": [
       "610"
      ]
     },
     "execution_count": 46,
     "metadata": {},
     "output_type": "execute_result"
    }
   ],
   "source": [
    "lib.CVodeGetNumRhsEvals(ode, num_evals_p)\n",
    "num_evals_p[0]"
   ]
  },
  {
   "cell_type": "code",
   "execution_count": 47,
   "metadata": {},
   "outputs": [
    {
     "data": {
      "text/plain": [
       "295"
      ]
     },
     "execution_count": 47,
     "metadata": {},
     "output_type": "execute_result"
    }
   ],
   "source": [
    "lib.CVodeGetNumSteps(ode, num_evals_p)\n",
    "num_evals_p[0]"
   ]
  },
  {
   "cell_type": "code",
   "execution_count": 48,
   "metadata": {},
   "outputs": [
    {
     "data": {
      "text/plain": [
       "10.0"
      ]
     },
     "execution_count": 48,
     "metadata": {},
     "output_type": "execute_result"
    }
   ],
   "source": [
    "time_p[0]"
   ]
  },
  {
   "cell_type": "code",
   "execution_count": 49,
   "metadata": {},
   "outputs": [],
   "source": [
    "from scipy import integrate"
   ]
  },
  {
   "cell_type": "code",
   "execution_count": 50,
   "metadata": {},
   "outputs": [],
   "source": [
    "def rhs_(t, y):\n",
    "    out = np.empty_like(y)\n",
    "    assert rhs(t, y, out, user_data) == 0\n",
    "    return out"
   ]
  },
  {
   "cell_type": "code",
   "execution_count": 51,
   "metadata": {},
   "outputs": [],
   "source": [
    "def jac_(t, y):\n",
    "    out = np.empty((ndim, ndim))\n",
    "    assert jacobian(t, y, None, out, user_data) == 0\n",
    "    return out"
   ]
  },
  {
   "cell_type": "code",
   "execution_count": 52,
   "metadata": {},
   "outputs": [],
   "source": [
    "from scipy import integrate"
   ]
  },
  {
   "cell_type": "code",
   "execution_count": 53,
   "metadata": {},
   "outputs": [
    {
     "name": "stdout",
     "output_type": "stream",
     "text": [
      "43.8 ms ± 1.54 ms per loop (mean ± std. dev. of 7 runs, 1 loop each)\n"
     ]
    }
   ],
   "source": [
    "%%timeit\n",
    "out = integrate.solve_ivp(\n",
    "    rhs_,\n",
    "    jac=jac_,\n",
    "    t_span=(0, tvals.max()),\n",
    "    t_eval=tvals, y0=np.array([0.5, 0.6]), method='BDF',\n",
    "    rtol=reltol, atol=abstol.data.copy())"
   ]
  },
  {
   "cell_type": "code",
   "execution_count": 54,
   "metadata": {},
   "outputs": [],
   "source": [
    "out = integrate.solve_ivp(\n",
    "    rhs_,\n",
    "    jac=jac_,\n",
    "    t_span=(0, tvals.max()),\n",
    "    t_eval=tvals, y0=np.array([0.5, 0.6]), method='BDF',\n",
    "    rtol=reltol, atol=abstol.data.copy())"
   ]
  },
  {
   "cell_type": "code",
   "execution_count": 55,
   "metadata": {},
   "outputs": [
    {
     "data": {
      "text/plain": [
       "[<matplotlib.lines.Line2D at 0x7f3ab8d41dd8>]"
      ]
     },
     "execution_count": 55,
     "metadata": {},
     "output_type": "execute_result"
    },
    {
     "data": {
      "image/png": "[encoded data removed]",
      "text/plain": [
       "<Figure size 432x288 with 1 Axes>"
      ]
     },
     "metadata": {
      "needs_background": "light"
     },
     "output_type": "display_data"
    }
   ],
   "source": [
    "plt.plot(tvals, out.y[0, :])\n",
    "plt.plot(tvals, out.y[1, :])\n",
    "\n",
    "plt.plot(tvals, np.array(y_vals)[:, 0], '.-.')\n",
    "plt.plot(tvals, np.array(y_vals)[:, 1], '.-.')"
   ]
  },
  {
   "cell_type": "code",
   "execution_count": 56,
   "metadata": {},
   "outputs": [
    {
     "data": {
      "text/plain": [
       "  message: 'The solver successfully reached the end of the integration interval.'\n",
       "     nfev: 414\n",
       "     njev: 1\n",
       "      nlu: 36\n",
       "      sol: None\n",
       "   status: 0\n",
       "  success: True\n",
       "        t: array([ 0.        ,  0.20408163,  0.40816327,  0.6122449 ,  0.81632653,\n",
       "        1.02040816,  1.2244898 ,  1.42857143,  1.63265306,  1.83673469,\n",
       "        2.04081633,  2.24489796,  2.44897959,  2.65306122,  2.85714286,\n",
       "        3.06122449,  3.26530612,  3.46938776,  3.67346939,  3.87755102,\n",
       "        4.08163265,  4.28571429,  4.48979592,  4.69387755,  4.89795918,\n",
       "        5.10204082,  5.30612245,  5.51020408,  5.71428571,  5.91836735,\n",
       "        6.12244898,  6.32653061,  6.53061224,  6.73469388,  6.93877551,\n",
       "        7.14285714,  7.34693878,  7.55102041,  7.75510204,  7.95918367,\n",
       "        8.16326531,  8.36734694,  8.57142857,  8.7755102 ,  8.97959184,\n",
       "        9.18367347,  9.3877551 ,  9.59183673,  9.79591837, 10.        ])\n",
       " t_events: None\n",
       "        y: array([[ 0.5       ,  0.59330775,  0.6558635 ,  0.68691887,  0.68730437,\n",
       "         0.65901042,  0.60470768,  0.52735582,  0.42997359,  0.31557878,\n",
       "         0.18726967,  0.04840153, -0.09720291, -0.24508888, -0.39014637,\n",
       "        -0.52681342, -0.64953166, -0.75337261, -0.83465121, -0.89132052,\n",
       "        -0.92303038, -0.93087671, -0.91697523, -0.88401334, -0.83488646,\n",
       "        -0.77245968, -0.69944732, -0.61838069, -0.53163038, -0.44145466,\n",
       "        -0.35005157, -0.25959857, -0.172268  , -0.09021141, -0.01551158,\n",
       "         0.0498925 ,  0.10429556,  0.14631476,  0.17496078,  0.18967952,\n",
       "         0.19036044,  0.17731603,  0.15124244,  0.11317357,  0.06443882,\n",
       "         0.0066299 , -0.05842347, -0.12867506, -0.20189037, -0.27569338],\n",
       "       [ 0.6       ,  0.24269343, -0.10330376, -0.42727928, -0.71978789,\n",
       "        -0.97303477, -1.18103599, -1.33959005, -1.44613273, -1.49955428,\n",
       "        -1.5000435 , -1.44900144, -1.34904174, -1.20406567, -1.0193672 ,\n",
       "        -0.80169251, -0.55916445, -0.30100268, -0.03703116,  0.22295627,\n",
       "         0.4698444 ,  0.69572922,  0.89425338,  1.06073041,  1.19209685,\n",
       "         1.28675424,  1.3443617 ,  1.36562446,  1.35210615,  1.30607714,\n",
       "         1.23040031,  1.12844806,  1.0040396 ,  0.86138545,  0.70502601,\n",
       "         0.53975302,  0.37050806,  0.20225772,  0.03985218, -0.11212185,\n",
       "        -0.24948055, -0.36856378, -0.4663299 , -0.54042293, -0.5892147 ,\n",
       "        -0.61182775, -0.60814451, -0.57880707, -0.52520765, -0.44946602]])"
      ]
     },
     "execution_count": 56,
     "metadata": {},
     "output_type": "execute_result"
    }
   ],
   "source": [
    "out"
   ]
  }
 ],
 "metadata": {
  "kernelspec": {
   "display_name": "Python (pymc)",
   "language": "python",
   "name": "pymc"
  },
  "language_info": {
   "codemirror_mode": {
    "name": "ipython",
    "version": 3
   },
   "file_extension": ".py",
   "mimetype": "text/x-python",
   "name": "python",
   "nbconvert_exporter": "python",
   "pygments_lexer": "ipython3",
   "version": "3.7.3"
  }
 },
 "nbformat": 4,
 "nbformat_minor": 4
}
