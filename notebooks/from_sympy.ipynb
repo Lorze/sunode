{
 "cells": [
  {
   "cell_type": "code",
   "execution_count": 1,
   "metadata": {},
   "outputs": [],
   "source": [
    "import numpy as np\n",
    "import sunode\n",
    "import sympy as sym\n",
    "import matplotlib.pyplot as plt\n",
    "\n",
    "import sunode.symode.paramset\n",
    "import sunode.symode.problem\n",
    "import sunode.wrappers.as_theano\n",
    "\n",
    "import theano\n",
    "import theano.tensor as tt"
   ]
  },
  {
   "cell_type": "markdown",
   "metadata": {},
   "source": [
    "### Define ode using sympy"
   ]
  },
  {
   "cell_type": "code",
   "execution_count": 2,
   "metadata": {},
   "outputs": [],
   "source": [
    "def make_ode(*, ode_error_order=None):\n",
    "    assert ode_error_order is None # TODO\n",
    "    paramset = sunode.symode.paramset.ParamSet(\n",
    "        [\n",
    "            ('a', True),\n",
    "            ('b', True),\n",
    "            ('c', True),\n",
    "            ('d', False),\n",
    "            ('e', False),\n",
    "            ('f', [\n",
    "                ('g', False, (3,))\n",
    "            ])\n",
    "        ],\n",
    "        {\n",
    "            'a': 0.1,\n",
    "            'b': 0.22,\n",
    "            'c': 0.11,\n",
    "            'd': 0.1,\n",
    "            'e': 0.5,\n",
    "            'f': {\n",
    "                'g': np.ones(3)\n",
    "            }\n",
    "        }\n",
    "    )\n",
    "\n",
    "    states = {\n",
    "        'x': (),\n",
    "        'y': (),\n",
    "    }\n",
    "    \n",
    "    def rhs_sympy(t, y, params):\n",
    "        return {\n",
    "            'x': y.y,\n",
    "            'y': params.b,\n",
    "        }\n",
    "\n",
    "    return sunode.symode.problem.SympyOde(paramset, states, rhs_sympy)"
   ]
  },
  {
   "cell_type": "code",
   "execution_count": 3,
   "metadata": {},
   "outputs": [],
   "source": [
    "ode = make_ode()\n",
    "\n",
    "tvals = np.linspace(0, 10, 20)\n",
    "y0 = np.ones(ode.n_states)"
   ]
  },
  {
   "cell_type": "markdown",
   "metadata": {},
   "source": [
    "### Solve without gradients"
   ]
  },
  {
   "cell_type": "code",
   "execution_count": 4,
   "metadata": {},
   "outputs": [
    {
     "name": "stdout",
     "output_type": "stream",
     "text": [
      "92.8 µs ± 800 ns per loop (mean ± std. dev. of 7 runs, 10000 loops each)\n"
     ]
    },
    {
     "data": {
      "image/png": "[encoded data removed]",
      "text/plain": [
       "<Figure size 432x288 with 1 Axes>"
      ]
     },
     "metadata": {
      "needs_background": "light"
     },
     "output_type": "display_data"
    }
   ],
   "source": [
    "solver = sunode.solver.Solver(ode)\n",
    "out = solver.make_output_buffers(tvals)\n",
    "solver.solve(0, tvals, y0, out)\n",
    "%timeit solver.solve(0, tvals, y0, out)\n",
    "plt.plot(out);"
   ]
  },
  {
   "cell_type": "markdown",
   "metadata": {},
   "source": [
    "### Solve with sensitivities"
   ]
  },
  {
   "cell_type": "code",
   "execution_count": 5,
   "metadata": {},
   "outputs": [],
   "source": [
    "#solver = sunode.solver.Solver(ode, compute_sens=True)\n",
    "#out = solver.make_output_buffers(tvals)\n",
    "#solver.solve(0, tvals, y0, out)\n",
    "#%timeit solver.solve(0, tvals, y0, out)\n",
    "#plt.plot(out);"
   ]
  },
  {
   "cell_type": "markdown",
   "metadata": {},
   "source": [
    "### Solve with adjoint"
   ]
  },
  {
   "cell_type": "code",
   "execution_count": 6,
   "metadata": {},
   "outputs": [],
   "source": [
    "solver = sunode.solver.AdjointSolver(ode)\n",
    "out, grad_out, lamda_out = solver.make_output_buffers(tvals)\n",
    "\n",
    "grads = np.ones(out.shape)\n",
    "grads[:, 0] = 0"
   ]
  },
  {
   "cell_type": "code",
   "execution_count": 7,
   "metadata": {},
   "outputs": [
    {
     "name": "stdout",
     "output_type": "stream",
     "text": [
      "336 µs ± 4.68 µs per loop (mean ± std. dev. of 7 runs, 1000 loops each)\n"
     ]
    }
   ],
   "source": [
    "%%timeit\n",
    "solver.solve_forward(0, tvals, y0, out)\n",
    "solver.solve_backward(tvals[-1], 0, tvals, grads, grad_out, lamda_out)"
   ]
  },
  {
   "cell_type": "markdown",
   "metadata": {},
   "source": [
    "### Integrate into theano and check gradients"
   ]
  },
  {
   "cell_type": "code",
   "execution_count": 8,
   "metadata": {},
   "outputs": [],
   "source": [
    "tvals = np.arange(1, 10)"
   ]
  },
  {
   "cell_type": "code",
   "execution_count": 9,
   "metadata": {},
   "outputs": [],
   "source": [
    "params = tt.dvector('params')\n",
    "y0 = tt.dvector('y0')\n",
    "solve_ode = sunode.wrappers.as_theano.SolveODEAdjoint(solver, 0, tvals)\n",
    "solution = solve_ode(y0, params)\n",
    "\n",
    "loss = (solution ** 2).sum()\n",
    "grad_p, grad_y0 = tt.grad(loss, [params, y0])\n",
    "func = theano.function([y0, params], [loss, grad_p, grad_y0])\n",
    "\n",
    "# Explicit solution\n",
    "loss = ((\n",
    "    ((0.5 * tvals ** 2 * params[1] + tvals * y0[1]) + y0[0]) ** 2\n",
    "    + (tvals * params[1] + y0[1]) ** 2\n",
    ")).sum()\n",
    "grad_p, grad_y0 = tt.grad(loss, [params, y0])\n",
    "\n",
    "func2 = theano.function([y0, params], [loss, grad_p, grad_y0])"
   ]
  },
  {
   "cell_type": "code",
   "execution_count": 10,
   "metadata": {},
   "outputs": [
    {
     "data": {
      "text/plain": [
       "[array(15966.33984513),\n",
       " array([     0.        , -16215.25009364,      0.        ]),\n",
       " array([ -552.40946791, -4143.94867923])]"
      ]
     },
     "execution_count": 10,
     "metadata": {},
     "output_type": "execute_result"
    }
   ],
   "source": [
    "p = np.random.randn(3)\n",
    "y0 = np.random.randn(2)\n",
    "func(y0, p)"
   ]
  },
  {
   "cell_type": "code",
   "execution_count": 11,
   "metadata": {},
   "outputs": [
    {
     "data": {
      "text/plain": [
       "[array(15966.33984513),\n",
       " array([     0.        , -16215.25009351,      0.        ]),\n",
       " array([ -552.40946791, -4143.94867923])]"
      ]
     },
     "execution_count": 11,
     "metadata": {},
     "output_type": "execute_result"
    }
   ],
   "source": [
    "func2(y0, p)"
   ]
  },
  {
   "cell_type": "code",
   "execution_count": 12,
   "metadata": {},
   "outputs": [],
   "source": [
    "eps = 1e-8\n",
    "h = np.zeros_like(y0)\n",
    "h[0] += eps\n",
    "a = func(y0, p)\n",
    "b = func(y0 + h, p)"
   ]
  },
  {
   "cell_type": "code",
   "execution_count": 13,
   "metadata": {},
   "outputs": [
    {
     "name": "stdout",
     "output_type": "stream",
     "text": [
      "[-552.41143855          -inf]\n",
      "[ -552.40946791 -4143.94867923]\n"
     ]
    }
   ],
   "source": [
    "print((b[0] - a[0]) / h)\n",
    "print(a[2])"
   ]
  },
  {
   "cell_type": "code",
   "execution_count": 14,
   "metadata": {},
   "outputs": [],
   "source": [
    "eps = 1e-8\n",
    "h = np.zeros_like(p)\n",
    "h[1] += eps\n",
    "a = func(y0, p)\n",
    "b = func(y0, p + h)"
   ]
  },
  {
   "cell_type": "code",
   "execution_count": 15,
   "metadata": {},
   "outputs": [
    {
     "name": "stdout",
     "output_type": "stream",
     "text": [
      "[           -inf -16215.25061637            -inf]\n",
      "[     0.         -16215.25009364      0.        ]\n"
     ]
    }
   ],
   "source": [
    "print((b[0] - a[0]) / h)\n",
    "print(a[1])"
   ]
  },
  {
   "cell_type": "markdown",
   "metadata": {},
   "source": [
    "### Use in pymc3"
   ]
  },
  {
   "cell_type": "code",
   "execution_count": 16,
   "metadata": {},
   "outputs": [
    {
     "name": "stderr",
     "output_type": "stream",
     "text": [
      "Auto-assigning NUTS sampler...\n",
      "Initializing NUTS using jitter+adapt_diag...\n",
      "Multiprocess sampling (2 chains in 2 jobs)\n",
      "NUTS: [y0, params]\n",
      "Sampling 2 chains, 0 divergences: 100%|██████████| 2000/2000 [00:28<00:00, 71.26draws/s] \n"
     ]
    }
   ],
   "source": [
    "import pymc3 as pm\n",
    "\n",
    "with pm.Model() as model:\n",
    "    params = pm.Normal('params', sd=10, shape=ode.n_params)\n",
    "    y0 = pm.Normal('y0', shape=ode.n_states)\n",
    "    \n",
    "    solve_ode = sunode.wrappers.as_theano.SolveODEAdjoint(solver, 0, tvals)\n",
    "    mu = solve_ode(y0, params)\n",
    "    error = 0.8 * np.random.randn(len(tvals))\n",
    "    pm.Normal('y', mu=mu[:, 0], sd=0.8, observed=tvals ** 2 + tvals + 5 + error)\n",
    "    \n",
    "    trace = pm.sample(chains=2, cores=2)"
   ]
  },
  {
   "cell_type": "code",
   "execution_count": 17,
   "metadata": {},
   "outputs": [
    {
     "name": "stderr",
     "output_type": "stream",
     "text": [
      "100%|██████████| 1000/1000 [00:00<00:00, 1596.47it/s]\n"
     ]
    }
   ],
   "source": [
    "with model:\n",
    "    tr = pm.sample_posterior_predictive(trace)"
   ]
  },
  {
   "cell_type": "code",
   "execution_count": 18,
   "metadata": {},
   "outputs": [
    {
     "data": {
      "image/png": "[encoded data removed]",
      "text/plain": [
       "<Figure size 432x288 with 1 Axes>"
      ]
     },
     "metadata": {
      "needs_background": "light"
     },
     "output_type": "display_data"
    }
   ],
   "source": [
    "plt.plot(tr['y'].T, color='grey', alpha=0.01);"
   ]
  },
  {
   "cell_type": "code",
   "execution_count": 19,
   "metadata": {},
   "outputs": [],
   "source": [
    "import seaborn as sns"
   ]
  },
  {
   "cell_type": "code",
   "execution_count": 20,
   "metadata": {},
   "outputs": [
    {
     "data": {
      "text/plain": [
       "<matplotlib.axes._subplots.AxesSubplot at 0x7fbbf377ac50>"
      ]
     },
     "execution_count": 20,
     "metadata": {},
     "output_type": "execute_result"
    },
    {
     "data": {
      "image/png": "[encoded data removed]",
      "text/plain": [
       "<Figure size 432x288 with 1 Axes>"
      ]
     },
     "metadata": {
      "needs_background": "light"
     },
     "output_type": "display_data"
    }
   ],
   "source": [
    "sns.distplot(trace['params'][:, 1])"
   ]
  },
  {
   "cell_type": "code",
   "execution_count": 21,
   "metadata": {},
   "outputs": [
    {
     "data": {
      "text/plain": [
       "<matplotlib.axes._subplots.AxesSubplot at 0x7fbbf36a8518>"
      ]
     },
     "execution_count": 21,
     "metadata": {},
     "output_type": "execute_result"
    },
    {
     "data": {
      "image/png": "[encoded data removed]",
      "text/plain": [
       "<Figure size 432x288 with 1 Axes>"
      ]
     },
     "metadata": {
      "needs_background": "light"
     },
     "output_type": "display_data"
    }
   ],
   "source": [
    "sns.distplot(trace['y0'][:, 0])"
   ]
  }
 ],
 "metadata": {
  "kernelspec": {
   "display_name": "Python (pymc)",
   "language": "python",
   "name": "pymc"
  },
  "language_info": {
   "codemirror_mode": {
    "name": "ipython",
    "version": 3
   },
   "file_extension": ".py",
   "mimetype": "text/x-python",
   "name": "python",
   "nbconvert_exporter": "python",
   "pygments_lexer": "ipython3",
   "version": "3.7.3"
  }
 },
 "nbformat": 4,
 "nbformat_minor": 4
}
