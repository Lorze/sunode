{
 "cells": [
  {
   "cell_type": "code",
   "execution_count": 57,
   "metadata": {},
   "outputs": [],
   "source": [
    "import numpy as np\n",
    "import sunode\n",
    "import sympy as sym\n",
    "import matplotlib.pyplot as plt\n",
    "import pandas as pd\n",
    "\n",
    "import sunode.symode.paramset\n",
    "import sunode.symode.problem\n",
    "import sunode.wrappers.as_theano\n",
    "\n",
    "import theano\n",
    "import theano.tensor as tt"
   ]
  },
  {
   "cell_type": "markdown",
   "metadata": {},
   "source": [
    "### Define ode using sympy and theano"
   ]
  },
  {
   "cell_type": "code",
   "execution_count": 74,
   "metadata": {},
   "outputs": [],
   "source": [
    "b = tt.dvector('b')\n",
    "d = tt.dvector('d')\n",
    "\n",
    "def rhs(t, y, params):\n",
    "    return {\n",
    "        'a': params.c.d * y.a + params.f[20],\n",
    "        'b': [3., 4.],\n",
    "    }\n",
    "\n",
    "\n",
    "solution, problem, solver = sunode.wrappers.as_theano.solve_ivp(\n",
    "    t0=0,\n",
    "    y0={\n",
    "        'a': (np.arange(3, dtype=float) + d[0] ** 2, 3),\n",
    "        'b': (b ** 3, 2),\n",
    "    },\n",
    "    params={\n",
    "        'c': {\n",
    "            'd': (d, 3),\n",
    "        },\n",
    "        'f': np.linspace(0, 1, 50),\n",
    "    },\n",
    "    tvals=np.arange(20) / 100,\n",
    "    rhs=rhs,\n",
    ")"
   ]
  },
  {
   "cell_type": "code",
   "execution_count": 75,
   "metadata": {},
   "outputs": [],
   "source": [
    "tvals = np.arange(20) / 100\n",
    "t0 = 0\n",
    "y0 = np.ones(problem.n_states)\n",
    "solver.set_params(np.ones((), dtype=problem.params_dtype))"
   ]
  },
  {
   "cell_type": "code",
   "execution_count": 76,
   "metadata": {},
   "outputs": [],
   "source": [
    "y_out, grad_out, lamda_out = solver.make_output_buffers(tvals)\n",
    "grads = np.ones_like(y_out)"
   ]
  },
  {
   "cell_type": "code",
   "execution_count": 77,
   "metadata": {},
   "outputs": [
    {
     "name": "stdout",
     "output_type": "stream",
     "text": [
      "1.26 ms ± 1.33 µs per loop (mean ± std. dev. of 7 runs, 1000 loops each)\n"
     ]
    }
   ],
   "source": [
    "%%timeit\n",
    "solver.solve_forward(t0, tvals, y0, y_out)\n",
    "solver.solve_backward(tvals[-1], t0, tvals, grads, grad_out, lamda_out)"
   ]
  },
  {
   "cell_type": "code",
   "execution_count": 78,
   "metadata": {},
   "outputs": [],
   "source": [
    "val = (solution ** 2).sum()\n",
    "grads = tt.grad(val, [b, d])"
   ]
  },
  {
   "cell_type": "code",
   "execution_count": 79,
   "metadata": {},
   "outputs": [],
   "source": [
    "func = theano.function([b, d], [val] + grads)\n",
    "func2 = theano.function([b, d], [val])"
   ]
  },
  {
   "cell_type": "code",
   "execution_count": 80,
   "metadata": {},
   "outputs": [],
   "source": [
    "np.random.seed(42)\n",
    "b = np.random.randn(2)\n",
    "d = np.random.randn(3)"
   ]
  },
  {
   "cell_type": "code",
   "execution_count": 81,
   "metadata": {},
   "outputs": [
    {
     "name": "stdout",
     "output_type": "stream",
     "text": [
      "1.55 ms ± 2.63 µs per loop (mean ± std. dev. of 7 runs, 1000 loops each)\n",
      "180 µs ± 324 ns per loop (mean ± std. dev. of 7 runs, 10000 loops each)\n"
     ]
    }
   ],
   "source": [
    "%timeit func(b, d)\n",
    "%timeit func2(b, d)"
   ]
  },
  {
   "cell_type": "code",
   "execution_count": 82,
   "metadata": {},
   "outputs": [
    {
     "data": {
      "text/plain": [
       "[array(185.95454144),\n",
       " array([12.06638293,  0.86567236]),\n",
       " array([252.23687613,  12.10402814,  21.63579496])]"
      ]
     },
     "execution_count": 82,
     "metadata": {},
     "output_type": "execute_result"
    }
   ],
   "source": [
    "func(b, d)"
   ]
  },
  {
   "cell_type": "code",
   "execution_count": 86,
   "metadata": {},
   "outputs": [
    {
     "data": {
      "text/plain": [
       "12.06641837825373"
      ]
     },
     "execution_count": 86,
     "metadata": {},
     "output_type": "execute_result"
    }
   ],
   "source": [
    "h = 1e-6\n",
    "b_ = b.copy()\n",
    "b_[0] += h\n",
    "(func(b_, d)[0] - func(b, d)[0]) / h"
   ]
  },
  {
   "cell_type": "code",
   "execution_count": 88,
   "metadata": {},
   "outputs": [
    {
     "data": {
      "text/plain": [
       "21.63579725333875"
      ]
     },
     "execution_count": 88,
     "metadata": {},
     "output_type": "execute_result"
    }
   ],
   "source": [
    "h = 1e-6\n",
    "d_ = d.copy()\n",
    "d_[2] += h\n",
    "(func(b, d_)[0] - func(b, d)[0]) / h"
   ]
  },
  {
   "cell_type": "markdown",
   "metadata": {},
   "source": [
    "### Define ode using sympy"
   ]
  },
  {
   "cell_type": "code",
   "execution_count": 11,
   "metadata": {},
   "outputs": [],
   "source": [
    "coords = {\n",
    "    'position': pd.Index(['pos1', 'pos2', 'pos3'])\n",
    "}\n",
    "\n",
    "# Define parameters of the ode.\n",
    "params = {\n",
    "    'a': (),\n",
    "    'b': (),\n",
    "    'c': (),\n",
    "    'd': (),\n",
    "    'f': {\n",
    "        'g': 'position'\n",
    "    }\n",
    "}\n",
    "\n",
    "# Declare state variables\n",
    "states = {\n",
    "    'x': {\n",
    "        'a': (),\n",
    "        'b': (0,),\n",
    "    },\n",
    "    'y': 'position',\n",
    "}\n",
    "\n",
    "# Define the right hand side of the ode\n",
    "def rhs_sympy(t, y, params):\n",
    "    return {\n",
    "        'x': {\n",
    "            'a': y.y[0] * params.d,\n",
    "            'b': [],\n",
    "        },\n",
    "        'y': {\n",
    "            'pos1': 0,\n",
    "            'pos2': 1,\n",
    "            'pos3': 2,\n",
    "        }\n",
    "    }\n",
    "\n",
    "ode = sunode.symode.problem.SympyOde(params, states, rhs_sympy, [('d',), ('a',)], coords=coords)"
   ]
  },
  {
   "cell_type": "code",
   "execution_count": 12,
   "metadata": {},
   "outputs": [],
   "source": [
    "tvals = np.linspace(0, 10, 20)\n",
    "y0 = np.ones(ode.n_states)"
   ]
  },
  {
   "cell_type": "markdown",
   "metadata": {},
   "source": [
    "### Solve without gradients"
   ]
  },
  {
   "cell_type": "code",
   "execution_count": 13,
   "metadata": {},
   "outputs": [
    {
     "name": "stdout",
     "output_type": "stream",
     "text": [
      "52.2 µs ± 335 ns per loop (mean ± std. dev. of 7 runs, 10000 loops each)\n"
     ]
    },
    {
     "data": {
      "image/png": "[encoded data removed]",
      "text/plain": [
       "<Figure size 432x288 with 1 Axes>"
      ]
     },
     "metadata": {
      "needs_background": "light"
     },
     "output_type": "display_data"
    }
   ],
   "source": [
    "solver = sunode.solver.Solver(ode)\n",
    "solver.set_params_dict({\n",
    "    'a': 99,\n",
    "    'b': 0.22,\n",
    "    'c': 0.11,\n",
    "    'd': 11,\n",
    "    'f': {\n",
    "        'g': np.array([1., 1., 1.])\n",
    "    }\n",
    "})\n",
    "out = solver.make_output_buffers(tvals)\n",
    "solver.solve(0, tvals, y0, out)\n",
    "%timeit solver.solve(0, tvals, y0, out)\n",
    "plt.plot(out);"
   ]
  },
  {
   "cell_type": "code",
   "execution_count": 14,
   "metadata": {},
   "outputs": [
    {
     "data": {
      "text/plain": [
       "((1., []), [1., 1., 1.])"
      ]
     },
     "execution_count": 14,
     "metadata": {},
     "output_type": "execute_result"
    }
   ],
   "source": [
    "y0.view(ode.state_dtype)[0]"
   ]
  },
  {
   "cell_type": "markdown",
   "metadata": {},
   "source": [
    "### Solve with sensitivities"
   ]
  },
  {
   "cell_type": "code",
   "execution_count": 15,
   "metadata": {},
   "outputs": [],
   "source": [
    "sens0 = np.zeros((ode.n_params, ode.n_states))"
   ]
  },
  {
   "cell_type": "code",
   "execution_count": 16,
   "metadata": {},
   "outputs": [
    {
     "name": "stdout",
     "output_type": "stream",
     "text": [
      "136 µs ± 552 ns per loop (mean ± std. dev. of 7 runs, 10000 loops each)\n"
     ]
    },
    {
     "data": {
      "image/png": "[encoded data removed]",
      "text/plain": [
       "<Figure size 432x288 with 1 Axes>"
      ]
     },
     "metadata": {
      "needs_background": "light"
     },
     "output_type": "display_data"
    }
   ],
   "source": [
    "solver = sunode.solver.Solver(ode, compute_sens=True, sens_mode='simultaneous')\n",
    "solver.set_params_dict({\n",
    "    'a': 99,\n",
    "    'b': 0.22,\n",
    "    'c': 0.11,\n",
    "    'd': 11,\n",
    "    'f': {\n",
    "        'g': np.array([1., 1., 1.])\n",
    "    }\n",
    "})\n",
    "out, sens_out = solver.make_output_buffers(tvals)\n",
    "%timeit solver.solve(0, tvals, y0, out, sens0=sens0, sens_out=sens_out)\n",
    "plt.plot(sens_out[:, 1, 0]);"
   ]
  },
  {
   "cell_type": "markdown",
   "metadata": {},
   "source": [
    "### Solve with adjoint"
   ]
  },
  {
   "cell_type": "code",
   "execution_count": 17,
   "metadata": {},
   "outputs": [],
   "source": [
    "solver = sunode.solver.AdjointSolver(ode)\n",
    "out, grad_out, lamda_out = solver.make_output_buffers(tvals)\n",
    "solver.set_params_dict({\n",
    "    'a': 99,\n",
    "    'b': 0.22,\n",
    "    'c': 0.11,\n",
    "    'd': 11,\n",
    "    'f': {\n",
    "        'g': np.array([1., 1., 1.])\n",
    "    }\n",
    "})\n",
    "\n",
    "grads = np.ones(out.shape)\n",
    "grads[:, 0] = 0"
   ]
  },
  {
   "cell_type": "code",
   "execution_count": 18,
   "metadata": {},
   "outputs": [
    {
     "name": "stdout",
     "output_type": "stream",
     "text": [
      "339 µs ± 1.27 µs per loop (mean ± std. dev. of 7 runs, 1000 loops each)\n"
     ]
    }
   ],
   "source": [
    "%%timeit\n",
    "solver.solve_forward(0, tvals, y0, out)\n",
    "solver.solve_backward(tvals[-1], 0, tvals, grads, grad_out, lamda_out)"
   ]
  },
  {
   "cell_type": "code",
   "execution_count": 73,
   "metadata": {},
   "outputs": [],
   "source": [
    "#solver.as_xarray(tvals, out)"
   ]
  },
  {
   "cell_type": "markdown",
   "metadata": {},
   "source": [
    "### Integrate into theano and check gradients"
   ]
  },
  {
   "cell_type": "code",
   "execution_count": 10,
   "metadata": {},
   "outputs": [],
   "source": [
    "tvals = np.arange(1, 10)"
   ]
  },
  {
   "cell_type": "code",
   "execution_count": 11,
   "metadata": {},
   "outputs": [],
   "source": [
    "params = tt.dvector('params')\n",
    "y0 = tt.dvector('y0')\n",
    "solve_ode = sunode.wrappers.as_theano.SolveODEAdjoint(solver, 0, tvals)\n",
    "solution = solve_ode(y0, params)\n",
    "\n",
    "loss = (solution ** 2).sum()\n",
    "grad_p, grad_y0 = tt.grad(loss, [params, y0])\n",
    "func = theano.function([y0, params], [loss, grad_p, grad_y0])\n",
    "\n",
    "# Explicit solution\n",
    "loss = ((\n",
    "    ((0.5 * tvals ** 2 * params[1] + tvals * y0[1]) + y0[0]) ** 2\n",
    "    + (tvals * params[1] + y0[1]) ** 2\n",
    ")).sum()\n",
    "grad_p, grad_y0 = tt.grad(loss, [params, y0])\n",
    "\n",
    "func2 = theano.function([y0, params], [loss, grad_p, grad_y0])"
   ]
  },
  {
   "cell_type": "code",
   "execution_count": 12,
   "metadata": {},
   "outputs": [
    {
     "data": {
      "text/plain": [
       "[array(2799.56607648),\n",
       " array([   0.        , 6787.19817836,    0.        ]),\n",
       " array([ 241.49532577, 1759.40589498])]"
      ]
     },
     "execution_count": 12,
     "metadata": {},
     "output_type": "execute_result"
    }
   ],
   "source": [
    "p = np.random.randn(3)\n",
    "y0 = np.random.randn(2)\n",
    "func(y0, p)"
   ]
  },
  {
   "cell_type": "code",
   "execution_count": 13,
   "metadata": {},
   "outputs": [
    {
     "data": {
      "text/plain": [
       "[array(2799.56607648),\n",
       " array([   0.        , 6787.19817831,    0.        ]),\n",
       " array([ 241.49532577, 1759.40589498])]"
      ]
     },
     "execution_count": 13,
     "metadata": {},
     "output_type": "execute_result"
    }
   ],
   "source": [
    "func2(y0, p)"
   ]
  },
  {
   "cell_type": "code",
   "execution_count": 14,
   "metadata": {},
   "outputs": [],
   "source": [
    "eps = 1e-8\n",
    "h = np.zeros_like(y0)\n",
    "h[0] += eps\n",
    "a = func(y0, p)\n",
    "b = func(y0 + h, p)"
   ]
  },
  {
   "cell_type": "code",
   "execution_count": 15,
   "metadata": {},
   "outputs": [
    {
     "name": "stdout",
     "output_type": "stream",
     "text": [
      "[241.4951723         inf]\n",
      "[ 241.49532577 1759.40589498]\n"
     ]
    }
   ],
   "source": [
    "print((b[0] - a[0]) / h)\n",
    "print(a[2])"
   ]
  },
  {
   "cell_type": "code",
   "execution_count": 16,
   "metadata": {},
   "outputs": [],
   "source": [
    "eps = 1e-8\n",
    "h = np.zeros_like(p)\n",
    "h[1] += eps\n",
    "a = func(y0, p)\n",
    "b = func(y0, p + h)"
   ]
  },
  {
   "cell_type": "code",
   "execution_count": 17,
   "metadata": {},
   "outputs": [
    {
     "name": "stdout",
     "output_type": "stream",
     "text": [
      "[          inf 6787.19829921           inf]\n",
      "[   0.         6787.19817836    0.        ]\n"
     ]
    }
   ],
   "source": [
    "print((b[0] - a[0]) / h)\n",
    "print(a[1])"
   ]
  },
  {
   "cell_type": "markdown",
   "metadata": {},
   "source": [
    "### Use in pymc3"
   ]
  },
  {
   "cell_type": "code",
   "execution_count": 18,
   "metadata": {},
   "outputs": [
    {
     "name": "stderr",
     "output_type": "stream",
     "text": [
      "Auto-assigning NUTS sampler...\n",
      "Initializing NUTS using jitter+adapt_diag...\n",
      "Multiprocess sampling (2 chains in 2 jobs)\n",
      "NUTS: [y0, params]\n",
      "Sampling 2 chains, 0 divergences: 100%|██████████| 2000/2000 [00:33<00:00, 59.19draws/s] \n"
     ]
    }
   ],
   "source": [
    "import pymc3 as pm\n",
    "\n",
    "with pm.Model() as model:\n",
    "    params = pm.Normal('params', sd=10, shape=ode.n_params)\n",
    "    y0 = pm.Normal('y0', shape=ode.n_states)\n",
    "    \n",
    "    solve_ode = sunode.wrappers.as_theano.SolveODEAdjoint(solver, 0, tvals)\n",
    "    mu = solve_ode(y0, params)\n",
    "    error = 0.8 * np.random.randn(len(tvals))\n",
    "    pm.Normal('y', mu=mu[:, 0], sd=0.8, observed=tvals ** 2 + tvals + 5 + error)\n",
    "    \n",
    "    trace = pm.sample(chains=2, cores=2)"
   ]
  },
  {
   "cell_type": "code",
   "execution_count": 19,
   "metadata": {},
   "outputs": [
    {
     "name": "stderr",
     "output_type": "stream",
     "text": [
      "100%|██████████| 1000/1000 [00:00<00:00, 1691.56it/s]\n"
     ]
    }
   ],
   "source": [
    "with model:\n",
    "    tr = pm.sample_posterior_predictive(trace)"
   ]
  },
  {
   "cell_type": "code",
   "execution_count": 20,
   "metadata": {},
   "outputs": [
    {
     "data": {
      "image/png": "[encoded data removed]",
      "text/plain": [
       "<Figure size 432x288 with 1 Axes>"
      ]
     },
     "metadata": {
      "needs_background": "light"
     },
     "output_type": "display_data"
    }
   ],
   "source": [
    "plt.plot(tr['y'].T, color='grey', alpha=0.01);"
   ]
  },
  {
   "cell_type": "code",
   "execution_count": 21,
   "metadata": {},
   "outputs": [],
   "source": [
    "import seaborn as sns"
   ]
  },
  {
   "cell_type": "code",
   "execution_count": 22,
   "metadata": {},
   "outputs": [
    {
     "data": {
      "text/plain": [
       "<matplotlib.axes._subplots.AxesSubplot at 0x7f4014f32f28>"
      ]
     },
     "execution_count": 22,
     "metadata": {},
     "output_type": "execute_result"
    },
    {
     "data": {
      "image/png": "[encoded data removed]",
      "text/plain": [
       "<Figure size 432x288 with 1 Axes>"
      ]
     },
     "metadata": {
      "needs_background": "light"
     },
     "output_type": "display_data"
    }
   ],
   "source": [
    "sns.distplot(trace['params'][:, 1])"
   ]
  },
  {
   "cell_type": "code",
   "execution_count": 23,
   "metadata": {},
   "outputs": [
    {
     "data": {
      "text/plain": [
       "<matplotlib.axes._subplots.AxesSubplot at 0x7f4014f32710>"
      ]
     },
     "execution_count": 23,
     "metadata": {},
     "output_type": "execute_result"
    },
    {
     "data": {
      "image/png": "[encoded data removed]",
      "text/plain": [
       "<Figure size 432x288 with 1 Axes>"
      ]
     },
     "metadata": {
      "needs_background": "light"
     },
     "output_type": "display_data"
    }
   ],
   "source": [
    "sns.distplot(trace['y0'][:, 0])"
   ]
  }
 ],
 "metadata": {
  "kernelspec": {
   "display_name": "Python 3",
   "language": "python",
   "name": "python3"
  },
  "language_info": {
   "codemirror_mode": {
    "name": "ipython",
    "version": 3
   },
   "file_extension": ".py",
   "mimetype": "text/x-python",
   "name": "python",
   "nbconvert_exporter": "python",
   "pygments_lexer": "ipython3",
   "version": "3.7.6"
  }
 },
 "nbformat": 4,
 "nbformat_minor": 4
}
