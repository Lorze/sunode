{
 "cells": [
  {
   "cell_type": "code",
   "execution_count": null,
   "metadata": {},
   "outputs": [],
   "source": [
    "import os\n",
    "import numpy as np\n",
    "import sunode\n",
    "import sympy as sym\n",
    "import matplotlib.pyplot as plt\n",
    "from scipy import optimize\n",
    "import theano.tensor as tt\n",
    "import theano\n",
    "import xarray as xr\n",
    "\n",
    "from nitrogene.common import sunsolve, ParamSet\n",
    "from nitrogene.common.better_lambdify import lambdify_consts"
   ]
  },
  {
   "cell_type": "code",
   "execution_count": null,
   "metadata": {},
   "outputs": [],
   "source": [
    "def make_ode(*, ode_error_order=None):\n",
    "    assert ode_error_order is None # TODO\n",
    "    paramset = ParamSet.ParamSet(\n",
    "        [\n",
    "            ('a', True),\n",
    "            ('b', True),\n",
    "            ('c', True),\n",
    "            ('d', False),\n",
    "            ('e', True),\n",
    "            ('f', [\n",
    "                ('g', False, (3,))\n",
    "            ])\n",
    "        ],\n",
    "        {\n",
    "            'a': 0.1,\n",
    "            'b': 0.22,\n",
    "            'c': 0.11,\n",
    "            'd': 0.1,\n",
    "            'e': 0.5,\n",
    "            'f': {\n",
    "                'g': np.ones(3)\n",
    "            }\n",
    "        }\n",
    "    )\n",
    "\n",
    "    states = {\n",
    "        'x': (),\n",
    "        'y': (),\n",
    "    }\n",
    "    \n",
    "    def rhs_sympy(t, y, params):\n",
    "        return {\n",
    "            'x': y.y,\n",
    "            'y': params.b,\n",
    "        }\n",
    "\n",
    "    return sunsolve.SympyOde(paramset, states, rhs_sympy)"
   ]
  },
  {
   "cell_type": "code",
   "execution_count": null,
   "metadata": {},
   "outputs": [],
   "source": [
    "ode = make_ode()"
   ]
  },
  {
   "cell_type": "code",
   "execution_count": null,
   "metadata": {},
   "outputs": [],
   "source": [
    "tvals = np.linspace(0, 10, 20)\n",
    "\n",
    "solver = sunsolve.AdjointSolver(\n",
    "    ode.n_states,\n",
    "    ode.make_sundials_rhs(),\n",
    "    ode.make_sundials_adjoint(),\n",
    "    ode.make_sundials_adjoint_quad(),\n",
    "    tvals,\n",
    "    ode.user_data.copy(),\n",
    "    n_params=ode.n_params,\n",
    ")"
   ]
  },
  {
   "cell_type": "code",
   "execution_count": null,
   "metadata": {},
   "outputs": [],
   "source": [
    "out, grad_out, lamda_out = solver.make_output_buffers(tvals)"
   ]
  },
  {
   "cell_type": "code",
   "execution_count": null,
   "metadata": {},
   "outputs": [],
   "source": [
    "y0 = np.ones(ode.n_states)\n",
    "%timeit solver.solve_forward(0, tvals, y0, out)"
   ]
  },
  {
   "cell_type": "code",
   "execution_count": null,
   "metadata": {},
   "outputs": [],
   "source": [
    "grads = np.ones((len(tvals), ode.n_states))"
   ]
  },
  {
   "cell_type": "code",
   "execution_count": null,
   "metadata": {},
   "outputs": [],
   "source": [
    "%%timeit\n",
    "solver.solve_forward(0, tvals, y0, out)\n",
    "solver.solve_backward(tvals[-1], 0, tvals, grads, grad_out, lamda_out)"
   ]
  },
  {
   "cell_type": "code",
   "execution_count": null,
   "metadata": {},
   "outputs": [],
   "source": [
    "sol = ode.xarray_solution(tvals, out, solver.user_data)\n",
    "sol"
   ]
  },
  {
   "cell_type": "code",
   "execution_count": null,
   "metadata": {},
   "outputs": [],
   "source": [
    "#sol.to_zarr('solution.zarr')"
   ]
  },
  {
   "cell_type": "code",
   "execution_count": null,
   "metadata": {},
   "outputs": [],
   "source": [
    "import pandas as pd\n",
    "sol = ode.xarray_solution(tvals, out, solver.user_data, unstack_state=False)\n",
    "pd.DataFrame.from_records(sol.solution.data).plot()"
   ]
  },
  {
   "cell_type": "code",
   "execution_count": null,
   "metadata": {},
   "outputs": [],
   "source": [
    "params = tt.dvector('params')\n",
    "y0 = tt.dvector('y0')\n",
    "\n",
    "solve_ode = sunsolve.SolveODEAdjoint(solver, 0, tvals)\n",
    "\n",
    "out = solve_ode(y0, params)\n",
    "\n",
    "loss = ((out[:, :] - 1) ** 2).sum()\n",
    "grads = tt.grad(loss, [y0, params])\n",
    "\n",
    "func = theano.function([y0, params], [loss, out, *grads], profile=True)"
   ]
  },
  {
   "cell_type": "code",
   "execution_count": null,
   "metadata": {},
   "outputs": [],
   "source": [
    "y0 = np.random.randn(ode.n_states) + 2\n",
    "params = np.random.randn(ode.n_params) + 2\n",
    "#%timeit func(y0, params)"
   ]
  },
  {
   "cell_type": "code",
   "execution_count": null,
   "metadata": {},
   "outputs": [],
   "source": [
    "eps = 1e-6\n",
    "h = np.zeros_like(y0)\n",
    "h[0] += eps\n",
    "a = func(y0, params)\n",
    "b = func(y0 + h, params)"
   ]
  },
  {
   "cell_type": "code",
   "execution_count": null,
   "metadata": {},
   "outputs": [],
   "source": [
    "(b[0] - a[0]) / h, a[2]"
   ]
  },
  {
   "cell_type": "code",
   "execution_count": null,
   "metadata": {},
   "outputs": [],
   "source": [
    "eps = 1e-3\n",
    "h = np.zeros_like(params)\n",
    "h[1] += eps\n",
    "a = func(y0, params)\n",
    "b = func(y0, params + h)"
   ]
  },
  {
   "cell_type": "code",
   "execution_count": null,
   "metadata": {},
   "outputs": [],
   "source": [
    "(b[0] - a[0]) / h, a[3]"
   ]
  },
  {
   "cell_type": "code",
   "execution_count": null,
   "metadata": {},
   "outputs": [],
   "source": [
    "import pymc3 as pm\n",
    "\n",
    "with pm.Model() as model:\n",
    "    params = pm.HalfNormal('params', sd=10, shape=ode.n_params)\n",
    "    y0 = pm.HalfNormal('y0', shape=ode.n_states)\n",
    "    \n",
    "    mu = solve_ode(y0, params)\n",
    "    pm.Normal('y', mu=mu[:, 0], sd=0.1, observed=np.arange(len(tvals)) + 1)\n",
    "    \n",
    "    trace = pm.sample()"
   ]
  },
  {
   "cell_type": "code",
   "execution_count": null,
   "metadata": {},
   "outputs": [],
   "source": [
    "with model:\n",
    "    tr = pm.sample_posterior_predictive(trace)"
   ]
  }
 ],
 "metadata": {
  "kernelspec": {
   "display_name": "Python 3",
   "language": "python",
   "name": "python3"
  },
  "language_info": {
   "codemirror_mode": {
    "name": "ipython",
    "version": 3
   },
   "file_extension": ".py",
   "mimetype": "text/x-python",
   "name": "python",
   "nbconvert_exporter": "python",
   "pygments_lexer": "ipython3",
   "version": "3.7.3"
  }
 },
 "nbformat": 4,
 "nbformat_minor": 4
}
